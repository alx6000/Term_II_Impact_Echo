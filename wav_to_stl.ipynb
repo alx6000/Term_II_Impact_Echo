{
 "cells": [
  {
   "cell_type": "code",
   "execution_count": 1,
   "metadata": {},
   "outputs": [],
   "source": [
    "from math import log\n",
    "import matplotlib.mlab as mlab\n",
    "import numpy\n",
    "from tangible import ast, scales\n",
    "from tangible.backends.openscad import OpenScadBackend\n",
    "from tangible.shapes.bars import BarsND\n",
    "import wave\n",
    "import nfft"
   ]
  },
  {
   "cell_type": "code",
   "execution_count": 2,
   "metadata": {},
   "outputs": [],
   "source": [
    "inPath = r'C:\\Users\\varva\\Desktop/leos.wav'"
   ]
  },
  {
   "cell_type": "code",
   "execution_count": 6,
   "metadata": {},
   "outputs": [],
   "source": [
    "outPath = r'C:\\Users\\varva\\Desktop\\leos2.scad'"
   ]
  },
  {
   "cell_type": "code",
   "execution_count": 7,
   "metadata": {},
   "outputs": [],
   "source": [
    "loggishness = 0.00000000000004"
   ]
  },
  {
   "cell_type": "code",
   "execution_count": 8,
   "metadata": {},
   "outputs": [
    {
     "name": "stdout",
     "output_type": "stream",
     "text": [
      "Reading and analyzing file...\n",
      "17\n",
      "24\n",
      "Scaling logarithmically (kinda)...\n",
      "Generating linear scale...\n",
      "Normalizing spectrum data...\n",
      "Trimming spectrum data post-normalization...\n",
      "Generating bars...\n",
      "Rendering...\n",
      "Saving to file...\n"
     ]
    },
    {
     "name": "stderr",
     "output_type": "stream",
     "text": [
      "C:\\Users\\varva\\Anaconda3\\envs\\tf\\lib\\site-packages\\ipykernel_launcher.py:52: DeprecationWarning: Numeric-style type codes are deprecated and will result in an error in the future.\n",
      "C:\\Users\\varva\\Anaconda3\\envs\\tf\\lib\\site-packages\\ipykernel_launcher.py:52: DeprecationWarning: The binary mode of fromstring is deprecated, as it behaves surprisingly on unicode inputs. Use frombuffer instead\n"
     ]
    }
   ],
   "source": [
    "nfft = 2**18\n",
    "padto = nfft/(2**13)\n",
    "\n",
    "padto = int (padto)\n",
    "\n",
    "def main():\n",
    "\n",
    "  print (\"Reading and analyzing file...\")\n",
    "  spectrum, freqs = ReadAndAnalyze(inPath)\n",
    "\n",
    "  print (len(freqs))\n",
    "  print (len(spectrum[0]))\n",
    "\n",
    "\n",
    "  print (\"Scaling logarithmically (kinda)...\")\n",
    "  for i, s in enumerate(spectrum):\n",
    "    spectrum[i] = list(map(loggish, s))\n",
    "\n",
    "  print (\"Generating linear scale...\")\n",
    "  scale = scales.linear(domain=[spectrum.min(), spectrum.max()],\n",
    "                        codomain=[1, 10])\n",
    "\n",
    "  print (\"Normalizing spectrum data...\")\n",
    "  datapoints = list(map(lambda x:list(map(scale, x)), spectrum))\n",
    "\n",
    "  print (\"Trimming spectrum data post-normalization...\")\n",
    "  for i, x in enumerate(datapoints):\n",
    "    for j, v in enumerate(x):\n",
    "        if v > 9:\n",
    "          datapoints[i][j] = 9\n",
    "\n",
    "  print (\"Generating bars...\")\n",
    "  bars = BarsND(datapoints,\n",
    "                bar_width=1,\n",
    "                bar_depth=1)\n",
    "\n",
    "  print (\"Rendering...\")\n",
    "  code = bars.render(backend=OpenScadBackend)\n",
    "\n",
    "  print (\"Saving to file...\")\n",
    "  with open(outPath, \"w\") as f:\n",
    "      f.write(code)\n",
    "\n",
    "def loggish(v):\n",
    "  v = float(v)\n",
    "  L = loggishness\n",
    "  return L * (log(v) - v) + v\n",
    "\n",
    "def ReadAndAnalyze(f):\n",
    "    wav = wave.open(f, 'r')\n",
    "    frames = wav.readframes(-1)\n",
    "    sound_info = numpy.fromstring(frames, 'Int16')\n",
    "    frame_rate = wav.getframerate()\n",
    "    wav.close()\n",
    "    specdata = mlab.specgram(sound_info,\n",
    "                             NFFT=nfft,\n",
    "                             pad_to=padto,\n",
    "                             Fs=frame_rate)\n",
    "    spectrum = specdata[0]\n",
    "    freqs = specdata[1]\n",
    "    return spectrum, freqs\n",
    "\n",
    "if __name__ == \"__main__\":\n",
    "  main()"
   ]
  },
  {
   "cell_type": "code",
   "execution_count": null,
   "metadata": {},
   "outputs": [],
   "source": []
  }
 ],
 "metadata": {
  "kernelspec": {
   "display_name": "Python 3",
   "language": "python",
   "name": "python3"
  },
  "language_info": {
   "codemirror_mode": {
    "name": "ipython",
    "version": 3
   },
   "file_extension": ".py",
   "mimetype": "text/x-python",
   "name": "python",
   "nbconvert_exporter": "python",
   "pygments_lexer": "ipython3",
   "version": "3.7.6"
  }
 },
 "nbformat": 4,
 "nbformat_minor": 4
}
